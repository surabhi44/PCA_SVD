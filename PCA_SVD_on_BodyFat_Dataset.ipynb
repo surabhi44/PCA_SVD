{
 "cells": [
  {
   "cell_type": "markdown",
   "metadata": {},
   "source": [
    "# PCA"
   ]
  },
  {
   "cell_type": "code",
   "execution_count": 90,
   "metadata": {},
   "outputs": [],
   "source": [
    "import numpy as np\n",
    "import pandas as pd\n",
    "import matplotlib.pyplot as plt"
   ]
  },
  {
   "cell_type": "code",
   "execution_count": 45,
   "metadata": {},
   "outputs": [
    {
     "name": "stdout",
     "output_type": "stream",
     "text": [
      "   IDNO  BODYFAT  DENSITY  AGE  WEIGHT  HEIGHT  ADIPOSITY  NECK  CHEST  \\\n",
      "0     1     12.6   1.0708   23  154.25   67.75       23.7  36.2   93.1   \n",
      "1     2      6.9   1.0853   22  173.25   72.25       23.4  38.5   93.6   \n",
      "2     3     24.6   1.0414   22  154.00   66.25       24.7  34.0   95.8   \n",
      "3     4     10.9   1.0751   26  184.75   72.25       24.9  37.4  101.8   \n",
      "4     5     27.8   1.0340   24  184.25   71.25       25.6  34.4   97.3   \n",
      "5     6     20.6   1.0502   24  210.25   74.75       26.5  39.0  104.5   \n",
      "6     7     19.0   1.0549   26  181.00   69.75       26.2  36.4  105.1   \n",
      "7     8     12.8   1.0704   25  176.00   72.50       23.6  37.8   99.6   \n",
      "8     9      5.1   1.0900   25  191.00   74.00       24.6  38.1  100.9   \n",
      "9    10     12.0   1.0722   23  198.25   73.50       25.8  42.1   99.6   \n",
      "\n",
      "   ABDOMEN    HIP  THIGH  KNEE  ANKLE  BICEPS  FOREARM  WRIST  \n",
      "0     85.2   94.5   59.0  37.3   21.9    32.0     27.4   17.1  \n",
      "1     83.0   98.7   58.7  37.3   23.4    30.5     28.9   18.2  \n",
      "2     87.9   99.2   59.6  38.9   24.0    28.8     25.2   16.6  \n",
      "3     86.4  101.2   60.1  37.3   22.8    32.4     29.4   18.2  \n",
      "4    100.0  101.9   63.2  42.2   24.0    32.2     27.7   17.7  \n",
      "5     94.4  107.8   66.0  42.0   25.6    35.7     30.6   18.8  \n",
      "6     90.7  100.3   58.4  38.3   22.9    31.9     27.8   17.7  \n",
      "7     88.5   97.1   60.0  39.4   23.2    30.5     29.0   18.8  \n",
      "8     82.5   99.9   62.9  38.3   23.8    35.9     31.1   18.2  \n",
      "9     88.6  104.1   63.1  41.7   25.0    35.6     30.0   19.2  \n"
     ]
    }
   ],
   "source": [
    "# Read the data file in variable data_original\n",
    "\n",
    "data_original = pd.read_excel('./BodyFat.xls')\n",
    "\n",
    "# Print First 10 rows of original data\n",
    "\n",
    "print(data_original.head(10))"
   ]
  },
  {
   "cell_type": "code",
   "execution_count": 46,
   "metadata": {},
   "outputs": [],
   "source": [
    "# I am taking Age as a prediction variable (label). That means given all the variables, predict the age.\n",
    "\n",
    "label = data_original['AGE']\n",
    "\n",
    "# Remove the age column from original data and store the new feature matrix into a variable feature_matrix\n",
    "\n",
    "feature_matrix = data_original.drop(\"AGE\", axis=1)"
   ]
  },
  {
   "cell_type": "code",
   "execution_count": 47,
   "metadata": {},
   "outputs": [
    {
     "name": "stdout",
     "output_type": "stream",
     "text": [
      "(252, 17)\n",
      "(252, 16)\n",
      "(252,)\n"
     ]
    }
   ],
   "source": [
    "print(data_original.shape)\n",
    "print(feature_matrix.shape)\n",
    "print(label.shape)"
   ]
  },
  {
   "cell_type": "code",
   "execution_count": 48,
   "metadata": {},
   "outputs": [
    {
     "name": "stdout",
     "output_type": "stream",
     "text": [
      "(252, 16)\n"
     ]
    }
   ],
   "source": [
    "# Standardization of data\n",
    "\n",
    "from sklearn.preprocessing import StandardScaler\n",
    "\n",
    "standardized_features = StandardScaler().fit_transform(feature_matrix)\n",
    "print(standardized_features.shape)"
   ]
  },
  {
   "cell_type": "code",
   "execution_count": 49,
   "metadata": {},
   "outputs": [
    {
     "name": "stdout",
     "output_type": "stream",
     "text": [
      "(16, 16)\n"
     ]
    }
   ],
   "source": [
    "# Covariance Matrix (X) = X*X^T\n",
    "\n",
    "standardized_features_copy = standardized_features\n",
    "\n",
    "covariance_matrix = np.matmul(standardized_features_copy.T, standardized_features_copy)\n",
    "print(covariance_matrix.shape)"
   ]
  },
  {
   "cell_type": "code",
   "execution_count": 196,
   "metadata": {},
   "outputs": [
    {
     "data": {
      "text/html": [
       "<div>\n",
       "<style scoped>\n",
       "    .dataframe tbody tr th:only-of-type {\n",
       "        vertical-align: middle;\n",
       "    }\n",
       "\n",
       "    .dataframe tbody tr th {\n",
       "        vertical-align: top;\n",
       "    }\n",
       "\n",
       "    .dataframe thead th {\n",
       "        text-align: right;\n",
       "    }\n",
       "</style>\n",
       "<table border=\"1\" class=\"dataframe\">\n",
       "  <thead>\n",
       "    <tr style=\"text-align: right;\">\n",
       "      <th></th>\n",
       "      <th>IDNO</th>\n",
       "      <th>BODYFAT</th>\n",
       "      <th>DENSITY</th>\n",
       "      <th>WEIGHT</th>\n",
       "      <th>HEIGHT</th>\n",
       "      <th>ADIPOSITY</th>\n",
       "      <th>NECK</th>\n",
       "      <th>CHEST</th>\n",
       "      <th>ABDOMEN</th>\n",
       "      <th>HIP</th>\n",
       "      <th>THIGH</th>\n",
       "      <th>KNEE</th>\n",
       "      <th>ANKLE</th>\n",
       "      <th>BICEPS</th>\n",
       "      <th>FOREARM</th>\n",
       "      <th>WRIST</th>\n",
       "    </tr>\n",
       "  </thead>\n",
       "  <tbody>\n",
       "    <tr>\n",
       "      <th>IDNO</th>\n",
       "      <td>5313.000000</td>\n",
       "      <td>62.683068</td>\n",
       "      <td>-0.152045</td>\n",
       "      <td>72.251494</td>\n",
       "      <td>10.931275</td>\n",
       "      <td>12.688645</td>\n",
       "      <td>12.600398</td>\n",
       "      <td>74.056375</td>\n",
       "      <td>95.669522</td>\n",
       "      <td>-12.395219</td>\n",
       "      <td>-30.884661</td>\n",
       "      <td>8.427490</td>\n",
       "      <td>-8.727490</td>\n",
       "      <td>-3.452390</td>\n",
       "      <td>0.288645</td>\n",
       "      <td>5.569522</td>\n",
       "    </tr>\n",
       "    <tr>\n",
       "      <th>BODYFAT</th>\n",
       "      <td>62.683068</td>\n",
       "      <td>60.075763</td>\n",
       "      <td>-0.145753</td>\n",
       "      <td>139.671527</td>\n",
       "      <td>-2.529755</td>\n",
       "      <td>20.584749</td>\n",
       "      <td>9.260466</td>\n",
       "      <td>45.928905</td>\n",
       "      <td>68.007997</td>\n",
       "      <td>34.743601</td>\n",
       "      <td>22.839571</td>\n",
       "      <td>9.492320</td>\n",
       "      <td>3.504689</td>\n",
       "      <td>11.545529</td>\n",
       "      <td>5.689682</td>\n",
       "      <td>2.515065</td>\n",
       "    </tr>\n",
       "    <tr>\n",
       "      <th>DENSITY</th>\n",
       "      <td>-0.152045</td>\n",
       "      <td>-0.145753</td>\n",
       "      <td>0.000362</td>\n",
       "      <td>-0.332269</td>\n",
       "      <td>0.006823</td>\n",
       "      <td>-0.049623</td>\n",
       "      <td>-0.021881</td>\n",
       "      <td>-0.109519</td>\n",
       "      <td>-0.163959</td>\n",
       "      <td>-0.083078</td>\n",
       "      <td>-0.055262</td>\n",
       "      <td>-0.022722</td>\n",
       "      <td>-0.008544</td>\n",
       "      <td>-0.028008</td>\n",
       "      <td>-0.013523</td>\n",
       "      <td>-0.005787</td>\n",
       "    </tr>\n",
       "    <tr>\n",
       "      <th>WEIGHT</th>\n",
       "      <td>72.251494</td>\n",
       "      <td>139.671527</td>\n",
       "      <td>-0.332269</td>\n",
       "      <td>863.722719</td>\n",
       "      <td>33.185647</td>\n",
       "      <td>95.137383</td>\n",
       "      <td>59.348441</td>\n",
       "      <td>221.548750</td>\n",
       "      <td>281.410541</td>\n",
       "      <td>198.099047</td>\n",
       "      <td>134.032185</td>\n",
       "      <td>60.473281</td>\n",
       "      <td>30.568587</td>\n",
       "      <td>71.071090</td>\n",
       "      <td>37.431343</td>\n",
       "      <td>20.023036</td>\n",
       "    </tr>\n",
       "    <tr>\n",
       "      <th>HEIGHT</th>\n",
       "      <td>10.931275</td>\n",
       "      <td>-2.529755</td>\n",
       "      <td>0.006823</td>\n",
       "      <td>33.185647</td>\n",
       "      <td>13.416513</td>\n",
       "      <td>-0.332605</td>\n",
       "      <td>2.259054</td>\n",
       "      <td>4.165407</td>\n",
       "      <td>3.468334</td>\n",
       "      <td>4.471301</td>\n",
       "      <td>2.854390</td>\n",
       "      <td>2.527020</td>\n",
       "      <td>1.643569</td>\n",
       "      <td>2.299789</td>\n",
       "      <td>1.692347</td>\n",
       "      <td>1.101330</td>\n",
       "    </tr>\n",
       "    <tr>\n",
       "      <th>ADIPOSITY</th>\n",
       "      <td>12.688645</td>\n",
       "      <td>20.584749</td>\n",
       "      <td>-0.049623</td>\n",
       "      <td>95.137383</td>\n",
       "      <td>-0.332605</td>\n",
       "      <td>13.308712</td>\n",
       "      <td>6.898222</td>\n",
       "      <td>28.042649</td>\n",
       "      <td>36.343465</td>\n",
       "      <td>23.084485</td>\n",
       "      <td>15.565277</td>\n",
       "      <td>6.279158</td>\n",
       "      <td>3.093537</td>\n",
       "      <td>8.226603</td>\n",
       "      <td>4.117792</td>\n",
       "      <td>2.131726</td>\n",
       "    </tr>\n",
       "    <tr>\n",
       "      <th>NECK</th>\n",
       "      <td>12.600398</td>\n",
       "      <td>9.260466</td>\n",
       "      <td>-0.021881</td>\n",
       "      <td>59.348441</td>\n",
       "      <td>2.259054</td>\n",
       "      <td>6.898222</td>\n",
       "      <td>5.909339</td>\n",
       "      <td>16.084217</td>\n",
       "      <td>19.766422</td>\n",
       "      <td>12.799440</td>\n",
       "      <td>8.878613</td>\n",
       "      <td>3.942235</td>\n",
       "      <td>1.968983</td>\n",
       "      <td>5.369868</td>\n",
       "      <td>3.063497</td>\n",
       "      <td>1.690357</td>\n",
       "    </tr>\n",
       "    <tr>\n",
       "      <th>CHEST</th>\n",
       "      <td>74.056375</td>\n",
       "      <td>45.928905</td>\n",
       "      <td>-0.109519</td>\n",
       "      <td>221.548750</td>\n",
       "      <td>4.165407</td>\n",
       "      <td>28.042649</td>\n",
       "      <td>16.084217</td>\n",
       "      <td>71.072918</td>\n",
       "      <td>83.254656</td>\n",
       "      <td>50.093988</td>\n",
       "      <td>32.303242</td>\n",
       "      <td>14.629275</td>\n",
       "      <td>6.901297</td>\n",
       "      <td>18.540367</td>\n",
       "      <td>9.883467</td>\n",
       "      <td>5.195850</td>\n",
       "    </tr>\n",
       "    <tr>\n",
       "      <th>ABDOMEN</th>\n",
       "      <td>95.669522</td>\n",
       "      <td>68.007997</td>\n",
       "      <td>-0.163959</td>\n",
       "      <td>281.410541</td>\n",
       "      <td>3.468334</td>\n",
       "      <td>36.343465</td>\n",
       "      <td>19.766422</td>\n",
       "      <td>83.254656</td>\n",
       "      <td>116.274745</td>\n",
       "      <td>67.522123</td>\n",
       "      <td>43.399068</td>\n",
       "      <td>19.171571</td>\n",
       "      <td>8.283173</td>\n",
       "      <td>22.315796</td>\n",
       "      <td>10.966889</td>\n",
       "      <td>6.239802</td>\n",
       "    </tr>\n",
       "    <tr>\n",
       "      <th>HIP</th>\n",
       "      <td>-12.395219</td>\n",
       "      <td>34.743601</td>\n",
       "      <td>-0.083078</td>\n",
       "      <td>198.099047</td>\n",
       "      <td>4.471301</td>\n",
       "      <td>23.084485</td>\n",
       "      <td>12.799440</td>\n",
       "      <td>50.093988</td>\n",
       "      <td>67.522123</td>\n",
       "      <td>51.323722</td>\n",
       "      <td>33.714832</td>\n",
       "      <td>14.228213</td>\n",
       "      <td>6.780108</td>\n",
       "      <td>16.001243</td>\n",
       "      <td>7.889814</td>\n",
       "      <td>4.214200</td>\n",
       "    </tr>\n",
       "    <tr>\n",
       "      <th>THIGH</th>\n",
       "      <td>-30.884661</td>\n",
       "      <td>22.839571</td>\n",
       "      <td>-0.055262</td>\n",
       "      <td>134.032185</td>\n",
       "      <td>2.854390</td>\n",
       "      <td>15.565277</td>\n",
       "      <td>8.878613</td>\n",
       "      <td>32.303242</td>\n",
       "      <td>43.399068</td>\n",
       "      <td>33.714832</td>\n",
       "      <td>27.561996</td>\n",
       "      <td>10.118981</td>\n",
       "      <td>4.803173</td>\n",
       "      <td>12.078207</td>\n",
       "      <td>6.013363</td>\n",
       "      <td>2.738268</td>\n",
       "    </tr>\n",
       "    <tr>\n",
       "      <th>KNEE</th>\n",
       "      <td>8.427490</td>\n",
       "      <td>9.492320</td>\n",
       "      <td>-0.022722</td>\n",
       "      <td>60.473281</td>\n",
       "      <td>2.527020</td>\n",
       "      <td>6.279158</td>\n",
       "      <td>3.942235</td>\n",
       "      <td>14.629275</td>\n",
       "      <td>19.171571</td>\n",
       "      <td>14.228213</td>\n",
       "      <td>10.118981</td>\n",
       "      <td>5.816801</td>\n",
       "      <td>2.500102</td>\n",
       "      <td>4.945563</td>\n",
       "      <td>2.709177</td>\n",
       "      <td>1.496221</td>\n",
       "    </tr>\n",
       "    <tr>\n",
       "      <th>ANKLE</th>\n",
       "      <td>-8.727490</td>\n",
       "      <td>3.504689</td>\n",
       "      <td>-0.008544</td>\n",
       "      <td>30.568587</td>\n",
       "      <td>1.643569</td>\n",
       "      <td>3.093537</td>\n",
       "      <td>1.968983</td>\n",
       "      <td>6.901297</td>\n",
       "      <td>8.283173</td>\n",
       "      <td>6.780108</td>\n",
       "      <td>4.803173</td>\n",
       "      <td>2.500102</td>\n",
       "      <td>2.872664</td>\n",
       "      <td>2.482813</td>\n",
       "      <td>1.435186</td>\n",
       "      <td>0.895905</td>\n",
       "    </tr>\n",
       "    <tr>\n",
       "      <th>BICEPS</th>\n",
       "      <td>-3.452390</td>\n",
       "      <td>11.545529</td>\n",
       "      <td>-0.028008</td>\n",
       "      <td>71.071090</td>\n",
       "      <td>2.299789</td>\n",
       "      <td>8.226603</td>\n",
       "      <td>5.369868</td>\n",
       "      <td>18.540367</td>\n",
       "      <td>22.315796</td>\n",
       "      <td>16.001243</td>\n",
       "      <td>12.078207</td>\n",
       "      <td>4.945563</td>\n",
       "      <td>2.482813</td>\n",
       "      <td>9.128095</td>\n",
       "      <td>4.140789</td>\n",
       "      <td>1.782986</td>\n",
       "    </tr>\n",
       "    <tr>\n",
       "      <th>FOREARM</th>\n",
       "      <td>0.288645</td>\n",
       "      <td>5.689682</td>\n",
       "      <td>-0.013523</td>\n",
       "      <td>37.431343</td>\n",
       "      <td>1.692347</td>\n",
       "      <td>4.117792</td>\n",
       "      <td>3.063497</td>\n",
       "      <td>9.883467</td>\n",
       "      <td>10.966889</td>\n",
       "      <td>7.889814</td>\n",
       "      <td>6.013363</td>\n",
       "      <td>2.709177</td>\n",
       "      <td>1.435186</td>\n",
       "      <td>4.140789</td>\n",
       "      <td>4.083193</td>\n",
       "      <td>1.104705</td>\n",
       "    </tr>\n",
       "    <tr>\n",
       "      <th>WRIST</th>\n",
       "      <td>5.569522</td>\n",
       "      <td>2.515065</td>\n",
       "      <td>-0.005787</td>\n",
       "      <td>20.023036</td>\n",
       "      <td>1.101330</td>\n",
       "      <td>2.131726</td>\n",
       "      <td>1.690357</td>\n",
       "      <td>5.195850</td>\n",
       "      <td>6.239802</td>\n",
       "      <td>4.214200</td>\n",
       "      <td>2.738268</td>\n",
       "      <td>1.496221</td>\n",
       "      <td>0.895905</td>\n",
       "      <td>1.782986</td>\n",
       "      <td>1.104705</td>\n",
       "      <td>0.871581</td>\n",
       "    </tr>\n",
       "  </tbody>\n",
       "</table>\n",
       "</div>"
      ],
      "text/plain": [
       "                  IDNO     BODYFAT   DENSITY      WEIGHT     HEIGHT  \\\n",
       "IDNO       5313.000000   62.683068 -0.152045   72.251494  10.931275   \n",
       "BODYFAT      62.683068   60.075763 -0.145753  139.671527  -2.529755   \n",
       "DENSITY      -0.152045   -0.145753  0.000362   -0.332269   0.006823   \n",
       "WEIGHT       72.251494  139.671527 -0.332269  863.722719  33.185647   \n",
       "HEIGHT       10.931275   -2.529755  0.006823   33.185647  13.416513   \n",
       "ADIPOSITY    12.688645   20.584749 -0.049623   95.137383  -0.332605   \n",
       "NECK         12.600398    9.260466 -0.021881   59.348441   2.259054   \n",
       "CHEST        74.056375   45.928905 -0.109519  221.548750   4.165407   \n",
       "ABDOMEN      95.669522   68.007997 -0.163959  281.410541   3.468334   \n",
       "HIP         -12.395219   34.743601 -0.083078  198.099047   4.471301   \n",
       "THIGH       -30.884661   22.839571 -0.055262  134.032185   2.854390   \n",
       "KNEE          8.427490    9.492320 -0.022722   60.473281   2.527020   \n",
       "ANKLE        -8.727490    3.504689 -0.008544   30.568587   1.643569   \n",
       "BICEPS       -3.452390   11.545529 -0.028008   71.071090   2.299789   \n",
       "FOREARM       0.288645    5.689682 -0.013523   37.431343   1.692347   \n",
       "WRIST         5.569522    2.515065 -0.005787   20.023036   1.101330   \n",
       "\n",
       "           ADIPOSITY       NECK       CHEST     ABDOMEN         HIP  \\\n",
       "IDNO       12.688645  12.600398   74.056375   95.669522  -12.395219   \n",
       "BODYFAT    20.584749   9.260466   45.928905   68.007997   34.743601   \n",
       "DENSITY    -0.049623  -0.021881   -0.109519   -0.163959   -0.083078   \n",
       "WEIGHT     95.137383  59.348441  221.548750  281.410541  198.099047   \n",
       "HEIGHT     -0.332605   2.259054    4.165407    3.468334    4.471301   \n",
       "ADIPOSITY  13.308712   6.898222   28.042649   36.343465   23.084485   \n",
       "NECK        6.898222   5.909339   16.084217   19.766422   12.799440   \n",
       "CHEST      28.042649  16.084217   71.072918   83.254656   50.093988   \n",
       "ABDOMEN    36.343465  19.766422   83.254656  116.274745   67.522123   \n",
       "HIP        23.084485  12.799440   50.093988   67.522123   51.323722   \n",
       "THIGH      15.565277   8.878613   32.303242   43.399068   33.714832   \n",
       "KNEE        6.279158   3.942235   14.629275   19.171571   14.228213   \n",
       "ANKLE       3.093537   1.968983    6.901297    8.283173    6.780108   \n",
       "BICEPS      8.226603   5.369868   18.540367   22.315796   16.001243   \n",
       "FOREARM     4.117792   3.063497    9.883467   10.966889    7.889814   \n",
       "WRIST       2.131726   1.690357    5.195850    6.239802    4.214200   \n",
       "\n",
       "                THIGH       KNEE      ANKLE     BICEPS    FOREARM      WRIST  \n",
       "IDNO       -30.884661   8.427490  -8.727490  -3.452390   0.288645   5.569522  \n",
       "BODYFAT     22.839571   9.492320   3.504689  11.545529   5.689682   2.515065  \n",
       "DENSITY     -0.055262  -0.022722  -0.008544  -0.028008  -0.013523  -0.005787  \n",
       "WEIGHT     134.032185  60.473281  30.568587  71.071090  37.431343  20.023036  \n",
       "HEIGHT       2.854390   2.527020   1.643569   2.299789   1.692347   1.101330  \n",
       "ADIPOSITY   15.565277   6.279158   3.093537   8.226603   4.117792   2.131726  \n",
       "NECK         8.878613   3.942235   1.968983   5.369868   3.063497   1.690357  \n",
       "CHEST       32.303242  14.629275   6.901297  18.540367   9.883467   5.195850  \n",
       "ABDOMEN     43.399068  19.171571   8.283173  22.315796  10.966889   6.239802  \n",
       "HIP         33.714832  14.228213   6.780108  16.001243   7.889814   4.214200  \n",
       "THIGH       27.561996  10.118981   4.803173  12.078207   6.013363   2.738268  \n",
       "KNEE        10.118981   5.816801   2.500102   4.945563   2.709177   1.496221  \n",
       "ANKLE        4.803173   2.500102   2.872664   2.482813   1.435186   0.895905  \n",
       "BICEPS      12.078207   4.945563   2.482813   9.128095   4.140789   1.782986  \n",
       "FOREARM      6.013363   2.709177   1.435186   4.140789   4.083193   1.104705  \n",
       "WRIST        2.738268   1.496221   0.895905   1.782986   1.104705   0.871581  "
      ]
     },
     "execution_count": 196,
     "metadata": {},
     "output_type": "execute_result"
    }
   ],
   "source": [
    "# Covariance Matrix\n",
    "feature_matrix.cov()"
   ]
  },
  {
   "cell_type": "code",
   "execution_count": 195,
   "metadata": {},
   "outputs": [
    {
     "data": {
      "text/html": [
       "<div>\n",
       "<style scoped>\n",
       "    .dataframe tbody tr th:only-of-type {\n",
       "        vertical-align: middle;\n",
       "    }\n",
       "\n",
       "    .dataframe tbody tr th {\n",
       "        vertical-align: top;\n",
       "    }\n",
       "\n",
       "    .dataframe thead th {\n",
       "        text-align: right;\n",
       "    }\n",
       "</style>\n",
       "<table border=\"1\" class=\"dataframe\">\n",
       "  <thead>\n",
       "    <tr style=\"text-align: right;\">\n",
       "      <th></th>\n",
       "      <th>IDNO</th>\n",
       "      <th>BODYFAT</th>\n",
       "      <th>DENSITY</th>\n",
       "      <th>WEIGHT</th>\n",
       "      <th>HEIGHT</th>\n",
       "      <th>ADIPOSITY</th>\n",
       "      <th>NECK</th>\n",
       "      <th>CHEST</th>\n",
       "      <th>ABDOMEN</th>\n",
       "      <th>HIP</th>\n",
       "      <th>THIGH</th>\n",
       "      <th>KNEE</th>\n",
       "      <th>ANKLE</th>\n",
       "      <th>BICEPS</th>\n",
       "      <th>FOREARM</th>\n",
       "      <th>WRIST</th>\n",
       "    </tr>\n",
       "  </thead>\n",
       "  <tbody>\n",
       "    <tr>\n",
       "      <th>IDNO</th>\n",
       "      <td>1.000000</td>\n",
       "      <td>0.110951</td>\n",
       "      <td>-0.109605</td>\n",
       "      <td>0.033728</td>\n",
       "      <td>0.040943</td>\n",
       "      <td>0.047717</td>\n",
       "      <td>0.071112</td>\n",
       "      <td>0.120515</td>\n",
       "      <td>0.121720</td>\n",
       "      <td>-0.023737</td>\n",
       "      <td>-0.080708</td>\n",
       "      <td>0.047939</td>\n",
       "      <td>-0.070644</td>\n",
       "      <td>-0.015677</td>\n",
       "      <td>0.001960</td>\n",
       "      <td>0.081845</td>\n",
       "    </tr>\n",
       "    <tr>\n",
       "      <th>BODYFAT</th>\n",
       "      <td>0.110951</td>\n",
       "      <td>1.000000</td>\n",
       "      <td>-0.988087</td>\n",
       "      <td>0.613156</td>\n",
       "      <td>-0.089106</td>\n",
       "      <td>0.727994</td>\n",
       "      <td>0.491489</td>\n",
       "      <td>0.702885</td>\n",
       "      <td>0.813706</td>\n",
       "      <td>0.625700</td>\n",
       "      <td>0.561284</td>\n",
       "      <td>0.507786</td>\n",
       "      <td>0.266783</td>\n",
       "      <td>0.493031</td>\n",
       "      <td>0.363277</td>\n",
       "      <td>0.347573</td>\n",
       "    </tr>\n",
       "    <tr>\n",
       "      <th>DENSITY</th>\n",
       "      <td>-0.109605</td>\n",
       "      <td>-0.988087</td>\n",
       "      <td>1.000000</td>\n",
       "      <td>-0.594062</td>\n",
       "      <td>0.097881</td>\n",
       "      <td>-0.714732</td>\n",
       "      <td>-0.472966</td>\n",
       "      <td>-0.682599</td>\n",
       "      <td>-0.798955</td>\n",
       "      <td>-0.609331</td>\n",
       "      <td>-0.553091</td>\n",
       "      <td>-0.495040</td>\n",
       "      <td>-0.264890</td>\n",
       "      <td>-0.487109</td>\n",
       "      <td>-0.351648</td>\n",
       "      <td>-0.325716</td>\n",
       "    </tr>\n",
       "    <tr>\n",
       "      <th>WEIGHT</th>\n",
       "      <td>0.033728</td>\n",
       "      <td>0.613156</td>\n",
       "      <td>-0.594062</td>\n",
       "      <td>1.000000</td>\n",
       "      <td>0.308279</td>\n",
       "      <td>0.887352</td>\n",
       "      <td>0.830716</td>\n",
       "      <td>0.894191</td>\n",
       "      <td>0.887995</td>\n",
       "      <td>0.940884</td>\n",
       "      <td>0.868694</td>\n",
       "      <td>0.853167</td>\n",
       "      <td>0.613685</td>\n",
       "      <td>0.800416</td>\n",
       "      <td>0.630301</td>\n",
       "      <td>0.729775</td>\n",
       "    </tr>\n",
       "    <tr>\n",
       "      <th>HEIGHT</th>\n",
       "      <td>0.040943</td>\n",
       "      <td>-0.089106</td>\n",
       "      <td>0.097881</td>\n",
       "      <td>0.308279</td>\n",
       "      <td>1.000000</td>\n",
       "      <td>-0.024891</td>\n",
       "      <td>0.253710</td>\n",
       "      <td>0.134892</td>\n",
       "      <td>0.087813</td>\n",
       "      <td>0.170394</td>\n",
       "      <td>0.148436</td>\n",
       "      <td>0.286053</td>\n",
       "      <td>0.264744</td>\n",
       "      <td>0.207816</td>\n",
       "      <td>0.228649</td>\n",
       "      <td>0.322065</td>\n",
       "    </tr>\n",
       "    <tr>\n",
       "      <th>ADIPOSITY</th>\n",
       "      <td>0.047717</td>\n",
       "      <td>0.727994</td>\n",
       "      <td>-0.714732</td>\n",
       "      <td>0.887352</td>\n",
       "      <td>-0.024891</td>\n",
       "      <td>1.000000</td>\n",
       "      <td>0.777857</td>\n",
       "      <td>0.911799</td>\n",
       "      <td>0.923880</td>\n",
       "      <td>0.883269</td>\n",
       "      <td>0.812706</td>\n",
       "      <td>0.713660</td>\n",
       "      <td>0.500317</td>\n",
       "      <td>0.746384</td>\n",
       "      <td>0.558594</td>\n",
       "      <td>0.625907</td>\n",
       "    </tr>\n",
       "    <tr>\n",
       "      <th>NECK</th>\n",
       "      <td>0.071112</td>\n",
       "      <td>0.491489</td>\n",
       "      <td>-0.472966</td>\n",
       "      <td>0.830716</td>\n",
       "      <td>0.253710</td>\n",
       "      <td>0.777857</td>\n",
       "      <td>1.000000</td>\n",
       "      <td>0.784835</td>\n",
       "      <td>0.754077</td>\n",
       "      <td>0.734958</td>\n",
       "      <td>0.695697</td>\n",
       "      <td>0.672405</td>\n",
       "      <td>0.477892</td>\n",
       "      <td>0.731146</td>\n",
       "      <td>0.623660</td>\n",
       "      <td>0.744826</td>\n",
       "    </tr>\n",
       "    <tr>\n",
       "      <th>CHEST</th>\n",
       "      <td>0.120515</td>\n",
       "      <td>0.702885</td>\n",
       "      <td>-0.682599</td>\n",
       "      <td>0.894191</td>\n",
       "      <td>0.134892</td>\n",
       "      <td>0.911799</td>\n",
       "      <td>0.784835</td>\n",
       "      <td>1.000000</td>\n",
       "      <td>0.915828</td>\n",
       "      <td>0.829420</td>\n",
       "      <td>0.729859</td>\n",
       "      <td>0.719496</td>\n",
       "      <td>0.482988</td>\n",
       "      <td>0.727907</td>\n",
       "      <td>0.580173</td>\n",
       "      <td>0.660162</td>\n",
       "    </tr>\n",
       "    <tr>\n",
       "      <th>ABDOMEN</th>\n",
       "      <td>0.121720</td>\n",
       "      <td>0.813706</td>\n",
       "      <td>-0.798955</td>\n",
       "      <td>0.887995</td>\n",
       "      <td>0.087813</td>\n",
       "      <td>0.923880</td>\n",
       "      <td>0.754077</td>\n",
       "      <td>0.915828</td>\n",
       "      <td>1.000000</td>\n",
       "      <td>0.874066</td>\n",
       "      <td>0.766624</td>\n",
       "      <td>0.737179</td>\n",
       "      <td>0.453223</td>\n",
       "      <td>0.684983</td>\n",
       "      <td>0.503316</td>\n",
       "      <td>0.619832</td>\n",
       "    </tr>\n",
       "    <tr>\n",
       "      <th>HIP</th>\n",
       "      <td>-0.023737</td>\n",
       "      <td>0.625700</td>\n",
       "      <td>-0.609331</td>\n",
       "      <td>0.940884</td>\n",
       "      <td>0.170394</td>\n",
       "      <td>0.883269</td>\n",
       "      <td>0.734958</td>\n",
       "      <td>0.829420</td>\n",
       "      <td>0.874066</td>\n",
       "      <td>1.000000</td>\n",
       "      <td>0.896410</td>\n",
       "      <td>0.823473</td>\n",
       "      <td>0.558387</td>\n",
       "      <td>0.739273</td>\n",
       "      <td>0.545014</td>\n",
       "      <td>0.630090</td>\n",
       "    </tr>\n",
       "    <tr>\n",
       "      <th>THIGH</th>\n",
       "      <td>-0.080708</td>\n",
       "      <td>0.561284</td>\n",
       "      <td>-0.553091</td>\n",
       "      <td>0.868694</td>\n",
       "      <td>0.148436</td>\n",
       "      <td>0.812706</td>\n",
       "      <td>0.695697</td>\n",
       "      <td>0.729859</td>\n",
       "      <td>0.766624</td>\n",
       "      <td>0.896410</td>\n",
       "      <td>1.000000</td>\n",
       "      <td>0.799170</td>\n",
       "      <td>0.539797</td>\n",
       "      <td>0.761477</td>\n",
       "      <td>0.566842</td>\n",
       "      <td>0.558685</td>\n",
       "    </tr>\n",
       "    <tr>\n",
       "      <th>KNEE</th>\n",
       "      <td>0.047939</td>\n",
       "      <td>0.507786</td>\n",
       "      <td>-0.495040</td>\n",
       "      <td>0.853167</td>\n",
       "      <td>0.286053</td>\n",
       "      <td>0.713660</td>\n",
       "      <td>0.672405</td>\n",
       "      <td>0.719496</td>\n",
       "      <td>0.737179</td>\n",
       "      <td>0.823473</td>\n",
       "      <td>0.799170</td>\n",
       "      <td>1.000000</td>\n",
       "      <td>0.611608</td>\n",
       "      <td>0.678709</td>\n",
       "      <td>0.555898</td>\n",
       "      <td>0.664507</td>\n",
       "    </tr>\n",
       "    <tr>\n",
       "      <th>ANKLE</th>\n",
       "      <td>-0.070644</td>\n",
       "      <td>0.266783</td>\n",
       "      <td>-0.264890</td>\n",
       "      <td>0.613685</td>\n",
       "      <td>0.264744</td>\n",
       "      <td>0.500317</td>\n",
       "      <td>0.477892</td>\n",
       "      <td>0.482988</td>\n",
       "      <td>0.453223</td>\n",
       "      <td>0.558387</td>\n",
       "      <td>0.539797</td>\n",
       "      <td>0.611608</td>\n",
       "      <td>1.000000</td>\n",
       "      <td>0.484855</td>\n",
       "      <td>0.419050</td>\n",
       "      <td>0.566195</td>\n",
       "    </tr>\n",
       "    <tr>\n",
       "      <th>BICEPS</th>\n",
       "      <td>-0.015677</td>\n",
       "      <td>0.493031</td>\n",
       "      <td>-0.487109</td>\n",
       "      <td>0.800416</td>\n",
       "      <td>0.207816</td>\n",
       "      <td>0.746384</td>\n",
       "      <td>0.731146</td>\n",
       "      <td>0.727907</td>\n",
       "      <td>0.684983</td>\n",
       "      <td>0.739273</td>\n",
       "      <td>0.761477</td>\n",
       "      <td>0.678709</td>\n",
       "      <td>0.484855</td>\n",
       "      <td>1.000000</td>\n",
       "      <td>0.678255</td>\n",
       "      <td>0.632126</td>\n",
       "    </tr>\n",
       "    <tr>\n",
       "      <th>FOREARM</th>\n",
       "      <td>0.001960</td>\n",
       "      <td>0.363277</td>\n",
       "      <td>-0.351648</td>\n",
       "      <td>0.630301</td>\n",
       "      <td>0.228649</td>\n",
       "      <td>0.558594</td>\n",
       "      <td>0.623660</td>\n",
       "      <td>0.580173</td>\n",
       "      <td>0.503316</td>\n",
       "      <td>0.545014</td>\n",
       "      <td>0.566842</td>\n",
       "      <td>0.555898</td>\n",
       "      <td>0.419050</td>\n",
       "      <td>0.678255</td>\n",
       "      <td>1.000000</td>\n",
       "      <td>0.585588</td>\n",
       "    </tr>\n",
       "    <tr>\n",
       "      <th>WRIST</th>\n",
       "      <td>0.081845</td>\n",
       "      <td>0.347573</td>\n",
       "      <td>-0.325716</td>\n",
       "      <td>0.729775</td>\n",
       "      <td>0.322065</td>\n",
       "      <td>0.625907</td>\n",
       "      <td>0.744826</td>\n",
       "      <td>0.660162</td>\n",
       "      <td>0.619832</td>\n",
       "      <td>0.630090</td>\n",
       "      <td>0.558685</td>\n",
       "      <td>0.664507</td>\n",
       "      <td>0.566195</td>\n",
       "      <td>0.632126</td>\n",
       "      <td>0.585588</td>\n",
       "      <td>1.000000</td>\n",
       "    </tr>\n",
       "  </tbody>\n",
       "</table>\n",
       "</div>"
      ],
      "text/plain": [
       "               IDNO   BODYFAT   DENSITY    WEIGHT    HEIGHT  ADIPOSITY  \\\n",
       "IDNO       1.000000  0.110951 -0.109605  0.033728  0.040943   0.047717   \n",
       "BODYFAT    0.110951  1.000000 -0.988087  0.613156 -0.089106   0.727994   \n",
       "DENSITY   -0.109605 -0.988087  1.000000 -0.594062  0.097881  -0.714732   \n",
       "WEIGHT     0.033728  0.613156 -0.594062  1.000000  0.308279   0.887352   \n",
       "HEIGHT     0.040943 -0.089106  0.097881  0.308279  1.000000  -0.024891   \n",
       "ADIPOSITY  0.047717  0.727994 -0.714732  0.887352 -0.024891   1.000000   \n",
       "NECK       0.071112  0.491489 -0.472966  0.830716  0.253710   0.777857   \n",
       "CHEST      0.120515  0.702885 -0.682599  0.894191  0.134892   0.911799   \n",
       "ABDOMEN    0.121720  0.813706 -0.798955  0.887995  0.087813   0.923880   \n",
       "HIP       -0.023737  0.625700 -0.609331  0.940884  0.170394   0.883269   \n",
       "THIGH     -0.080708  0.561284 -0.553091  0.868694  0.148436   0.812706   \n",
       "KNEE       0.047939  0.507786 -0.495040  0.853167  0.286053   0.713660   \n",
       "ANKLE     -0.070644  0.266783 -0.264890  0.613685  0.264744   0.500317   \n",
       "BICEPS    -0.015677  0.493031 -0.487109  0.800416  0.207816   0.746384   \n",
       "FOREARM    0.001960  0.363277 -0.351648  0.630301  0.228649   0.558594   \n",
       "WRIST      0.081845  0.347573 -0.325716  0.729775  0.322065   0.625907   \n",
       "\n",
       "               NECK     CHEST   ABDOMEN       HIP     THIGH      KNEE  \\\n",
       "IDNO       0.071112  0.120515  0.121720 -0.023737 -0.080708  0.047939   \n",
       "BODYFAT    0.491489  0.702885  0.813706  0.625700  0.561284  0.507786   \n",
       "DENSITY   -0.472966 -0.682599 -0.798955 -0.609331 -0.553091 -0.495040   \n",
       "WEIGHT     0.830716  0.894191  0.887995  0.940884  0.868694  0.853167   \n",
       "HEIGHT     0.253710  0.134892  0.087813  0.170394  0.148436  0.286053   \n",
       "ADIPOSITY  0.777857  0.911799  0.923880  0.883269  0.812706  0.713660   \n",
       "NECK       1.000000  0.784835  0.754077  0.734958  0.695697  0.672405   \n",
       "CHEST      0.784835  1.000000  0.915828  0.829420  0.729859  0.719496   \n",
       "ABDOMEN    0.754077  0.915828  1.000000  0.874066  0.766624  0.737179   \n",
       "HIP        0.734958  0.829420  0.874066  1.000000  0.896410  0.823473   \n",
       "THIGH      0.695697  0.729859  0.766624  0.896410  1.000000  0.799170   \n",
       "KNEE       0.672405  0.719496  0.737179  0.823473  0.799170  1.000000   \n",
       "ANKLE      0.477892  0.482988  0.453223  0.558387  0.539797  0.611608   \n",
       "BICEPS     0.731146  0.727907  0.684983  0.739273  0.761477  0.678709   \n",
       "FOREARM    0.623660  0.580173  0.503316  0.545014  0.566842  0.555898   \n",
       "WRIST      0.744826  0.660162  0.619832  0.630090  0.558685  0.664507   \n",
       "\n",
       "              ANKLE    BICEPS   FOREARM     WRIST  \n",
       "IDNO      -0.070644 -0.015677  0.001960  0.081845  \n",
       "BODYFAT    0.266783  0.493031  0.363277  0.347573  \n",
       "DENSITY   -0.264890 -0.487109 -0.351648 -0.325716  \n",
       "WEIGHT     0.613685  0.800416  0.630301  0.729775  \n",
       "HEIGHT     0.264744  0.207816  0.228649  0.322065  \n",
       "ADIPOSITY  0.500317  0.746384  0.558594  0.625907  \n",
       "NECK       0.477892  0.731146  0.623660  0.744826  \n",
       "CHEST      0.482988  0.727907  0.580173  0.660162  \n",
       "ABDOMEN    0.453223  0.684983  0.503316  0.619832  \n",
       "HIP        0.558387  0.739273  0.545014  0.630090  \n",
       "THIGH      0.539797  0.761477  0.566842  0.558685  \n",
       "KNEE       0.611608  0.678709  0.555898  0.664507  \n",
       "ANKLE      1.000000  0.484855  0.419050  0.566195  \n",
       "BICEPS     0.484855  1.000000  0.678255  0.632126  \n",
       "FOREARM    0.419050  0.678255  1.000000  0.585588  \n",
       "WRIST      0.566195  0.632126  0.585588  1.000000  "
      ]
     },
     "execution_count": 195,
     "metadata": {},
     "output_type": "execute_result"
    }
   ],
   "source": [
    "# Correlation Matrix\n",
    "\n",
    "feature_matrix.corr()"
   ]
  },
  {
   "cell_type": "code",
   "execution_count": 96,
   "metadata": {},
   "outputs": [
    {
     "name": "stdout",
     "output_type": "stream",
     "text": [
      "Shape of eigen vectors =  (16, 16)\n",
      "Shape of eigen values =  (16,)\n"
     ]
    }
   ],
   "source": [
    "# Calculating eigen values and eigen vectors\n",
    "\n",
    "from scipy.linalg import eigh \n",
    "\n",
    "values, vectors = eigh(covariance_matrix)\n",
    "\n",
    "print(\"Shape of eigen vectors = \",vectors.shape)\n",
    "print(\"Shape of eigen values = \", values.shape)\n"
   ]
  },
  {
   "cell_type": "code",
   "execution_count": 104,
   "metadata": {},
   "outputs": [
    {
     "data": {
      "text/plain": [
       "array([2462.81229263,  440.7673292 ,  274.0401047 ,  177.05020644,\n",
       "        160.27722554,  130.67426791,  113.64158143,   70.97734482,\n",
       "         62.63185873,   47.74905022,   39.46210582,   19.71806028,\n",
       "         12.7308349 ,   10.60882192,    6.06554589,    2.79336958])"
      ]
     },
     "execution_count": 104,
     "metadata": {},
     "output_type": "execute_result"
    }
   ],
   "source": [
    "# Eigen values are in ascending order. We have to reverse it to get in descending order\n",
    "reverse_eig_values = np.flipud(values)\n",
    "reverse_eig_values"
   ]
  },
  {
   "cell_type": "code",
   "execution_count": 119,
   "metadata": {},
   "outputs": [
    {
     "data": {
      "image/png": "[encoded data removed]",
      "text/plain": [
       "<Figure size 576x288 with 1 Axes>"
      ]
     },
     "metadata": {
      "needs_background": "light"
     },
     "output_type": "display_data"
    }
   ],
   "source": [
    "# Plot of Eigen Value Vs Principal Component\n",
    "\n",
    "plt.figure(1, figsize=(8,4))\n",
    "plt.clf()\n",
    "plt.plot(reverse_eig_values, linewidth=5)\n",
    "plt.axis('tight')\n",
    "plt.grid()\n",
    "plt.xlabel('Principal Component')\n",
    "plt.ylabel('Eigen_Value')\n",
    "plt.title('Eigen Value corresponding to a principal component Vs Principal Component')\n",
    "\n",
    "plt.show()"
   ]
  },
  {
   "cell_type": "code",
   "execution_count": 118,
   "metadata": {
    "scrolled": true
   },
   "outputs": [
    {
     "data": {
      "image/png": "[encoded data removed]",
      "text/plain": [
       "<Figure size 576x288 with 1 Axes>"
      ]
     },
     "metadata": {
      "needs_background": "light"
     },
     "output_type": "display_data"
    }
   ],
   "source": [
    "from sklearn import decomposition\n",
    "pca = decomposition.PCA()\n",
    "pca.n_components = 16\n",
    "pca_data = pca.fit_transform(standardized_features_copy)\n",
    "\n",
    "percent_variance_explained = pca.explained_variance_ratio_\n",
    "\n",
    "\n",
    "# Plot of Percentae of variance by a principal component Vs Principal Component\n",
    "\n",
    "plt.figure(1, figsize=(8, 4))\n",
    "plt.clf()\n",
    "plt.plot(percent_variance_explained, linewidth=5)\n",
    "plt.axis('tight')\n",
    "plt.grid()\n",
    "plt.xlabel('Principal_Component')\n",
    "plt.ylabel('Percentage_of_Variance_Explained')\n",
    "plt.title('Percentae of variance by a principal component Vs Principal Component')\n",
    "plt.show()\n",
    "\n"
   ]
  },
  {
   "cell_type": "markdown",
   "metadata": {},
   "source": [
    "# According to Elbow method, we can choose the number of principal components = 3. After which the curves flattens out."
   ]
  },
  {
   "cell_type": "code",
   "execution_count": 134,
   "metadata": {},
   "outputs": [
    {
     "data": {
      "image/png": "[encoded data removed]",
      "text/plain": [
       "<Figure size 432x288 with 1 Axes>"
      ]
     },
     "metadata": {
      "needs_background": "light"
     },
     "output_type": "display_data"
    }
   ],
   "source": [
    "pca.n_components = 6\n",
    "pca_data = pca.fit_transform(standardized_features_copy)\n",
    "percent_variance = np.round(pca.explained_variance_ratio_* 100, decimals =2)\n",
    "columns = ['1', '2', '3', '4', '5', '6']\n",
    "plt.bar(x= range(1,7), height=percent_variance, tick_label=columns)\n",
    "plt.ylabel('Percentate of Variance Explained')\n",
    "plt.xlabel('Principal Component')\n",
    "plt.title('Percentae of variance explained by first 6 principal components ')\n",
    "plt.show()"
   ]
  },
  {
   "cell_type": "markdown",
   "metadata": {},
   "source": [
    "# According to Elbow method, we can choose the number of principal components = 3. After which the curves flattens out."
   ]
  },
  {
   "cell_type": "code",
   "execution_count": 136,
   "metadata": {},
   "outputs": [
    {
     "data": {
      "image/png": "[encoded data removed]",
      "text/plain": [
       "<Figure size 432x288 with 1 Axes>"
      ]
     },
     "metadata": {
      "needs_background": "light"
     },
     "output_type": "display_data"
    }
   ],
   "source": [
    "pca.n_components = 16\n",
    "pca_data = pca.fit_transform(standardized_features_copy)\n",
    "\n",
    "percentage_var_explained = pca.explained_variance_ / np.sum(pca.explained_variance_);\n",
    "cum_var_explained = np.cumsum(percentage_var_explained)\n",
    "\n",
    "# Plot of Cumulative variance explained Vs Number of principal components\n",
    "plt.figure(1, figsize=(6, 4))\n",
    "plt.clf()\n",
    "plt.plot(cum_var_explained, linewidth=2)\n",
    "plt.axis('tight')\n",
    "plt.grid()\n",
    "plt.xlabel('Number_Of_Components')\n",
    "plt.ylabel('Total_Variance_Explained')\n",
    "plt.show()"
   ]
  },
  {
   "cell_type": "markdown",
   "metadata": {},
   "source": [
    "# It is clear from above graph that with 3 principal components we can have around 85% of variance explained."
   ]
  },
  {
   "cell_type": "markdown",
   "metadata": {},
   "source": [
    "# New Data Matrix"
   ]
  },
  {
   "cell_type": "code",
   "execution_count": 190,
   "metadata": {},
   "outputs": [
    {
     "name": "stdout",
     "output_type": "stream",
     "text": [
      "(252, 3)\n"
     ]
    }
   ],
   "source": [
    "values, vectors = eigh(covariance_matrix, eigvals=(13,15))\n",
    "new_coordinates = np.matmul(vectors.T, standardized_features_copy.T)\n",
    "new_coordinates = new_coordinates.T\n",
    "print(new_coordinates.shape)"
   ]
  },
  {
   "cell_type": "code",
   "execution_count": 193,
   "metadata": {},
   "outputs": [
    {
     "name": "stdout",
     "output_type": "stream",
     "text": [
      "     1st_principal  2nd_principal  3rd_principal   Age\n",
      "0        -1.916302      -0.008989      -2.507635  23.0\n",
      "1        -1.446283      -2.187420      -1.734726  22.0\n",
      "2        -2.249391       1.856310      -1.816040  22.0\n",
      "3        -1.454735      -1.512451      -0.658884  26.0\n",
      "4        -1.789629       0.764517       0.817053  24.0\n",
      "..             ...            ...            ...   ...\n",
      "247       1.826806       0.671578      -4.736545  70.0\n",
      "248       1.888773       1.273109       3.474278  72.0\n",
      "249       1.420567       3.052867       1.452822  72.0\n",
      "250       2.203406       0.606791       1.624554  72.0\n",
      "251       2.008638       0.564653       4.375068  74.0\n",
      "\n",
      "[252 rows x 4 columns]\n"
     ]
    }
   ],
   "source": [
    "new_coordinates_df = np.vstack((new_coordinates.T, label)).T\n",
    "dataframe = pd.DataFrame(data=new_coordinates_df, columns=(\"3rd_principal\", \"2nd_principal\",\"1st_principal\", \"Age\"))\n",
    "print(dataframe)"
   ]
  },
  {
   "cell_type": "markdown",
   "metadata": {},
   "source": [
    "# Scatter Plot in 2-Dim"
   ]
  },
  {
   "cell_type": "code",
   "execution_count": 176,
   "metadata": {},
   "outputs": [
    {
     "data": {
      "image/png": "[encoded data removed]",
      "text/plain": [
       "<Figure size 490.25x432 with 1 Axes>"
      ]
     },
     "metadata": {
      "needs_background": "light"
     },
     "output_type": "display_data"
    }
   ],
   "source": [
    "\n",
    "pca.n_components = 2\n",
    "pca_data = pca.fit_transform(standardized_features_copy)\n",
    "\n",
    "# attaching the label for each 2-d data point \n",
    "pca_data = np.vstack((pca_data.T, label)).T\n",
    "\n",
    "# creating a new data fram which help us in ploting the result data\n",
    "\n",
    "import seaborn as sn\n",
    "\n",
    "pca_df = pd.DataFrame(data=pca_data, columns=(\"1st_principal\", \"2nd_principal\", \"label\"))\n",
    "sn.FacetGrid(pca_df, hue=\"label\", height=6).map(plt.scatter, '1st_principal', '2nd_principal').add_legend()\n",
    "plt.show()"
   ]
  },
  {
   "cell_type": "markdown",
   "metadata": {},
   "source": [
    "# Scatter Plot in 3-D"
   ]
  },
  {
   "cell_type": "code",
   "execution_count": 262,
   "metadata": {},
   "outputs": [
    {
     "data": {
      "text/plain": [
       "<mpl_toolkits.mplot3d.art3d.Path3DCollection at 0x7f697c4b6b50>"
      ]
     },
     "execution_count": 262,
     "metadata": {},
     "output_type": "execute_result"
    },
    {
     "data": {
      "image/png": "[encoded data removed]",
      "text/plain": [
       "<Figure size 432x288 with 1 Axes>"
      ]
     },
     "metadata": {
      "needs_background": "light"
     },
     "output_type": "display_data"
    }
   ],
   "source": [
    "pca.n_components = 3\n",
    "pca_data = pca.fit_transform(standardized_features_copy)\n",
    "pca_df = pd.DataFrame(data=pca_data, columns=(\"1st_principal\", \"2nd_principal\", \"3rd_principal\"))\n",
    "pca_data = np.vstack((pca_data.T, label)).T\n",
    "\n",
    "fig = plt.figure()\n",
    "ax = fig.add_subplot(projection='3d')\n",
    "ax.scatter(pca_df['1st_principal'],pca_df['2nd_principal'],pca_df[\"3rd_principal\"])\n"
   ]
  },
  {
   "cell_type": "markdown",
   "metadata": {},
   "source": [
    "# SVD"
   ]
  },
  {
   "cell_type": "code",
   "execution_count": 233,
   "metadata": {},
   "outputs": [],
   "source": [
    "U, S, V = np.linalg.svd(feature_matrix)"
   ]
  },
  {
   "cell_type": "code",
   "execution_count": 234,
   "metadata": {},
   "outputs": [
    {
     "name": "stdout",
     "output_type": "stream",
     "text": [
      "(252, 252)\n",
      "(16,)\n",
      "(16, 16)\n"
     ]
    }
   ],
   "source": [
    "print(U.shape)\n",
    "print(S.shape)\n",
    "print(V.shape)"
   ]
  },
  {
   "cell_type": "code",
   "execution_count": 235,
   "metadata": {},
   "outputs": [],
   "source": [
    "from sklearn.decomposition import TruncatedSVD"
   ]
  },
  {
   "cell_type": "code",
   "execution_count": 237,
   "metadata": {},
   "outputs": [
    {
     "name": "stdout",
     "output_type": "stream",
     "text": [
      "[0.28267962 0.67270361 0.02940012]\n"
     ]
    }
   ],
   "source": [
    "# Using SVD for 3 singular values\n",
    "\n",
    "svd = TruncatedSVD(n_components = 3)\n",
    "svd_reduced_features = svd.fit_transform(feature_matrix)\n",
    "print(svd.explained_variance_ratio_)"
   ]
  },
  {
   "cell_type": "code",
   "execution_count": 238,
   "metadata": {},
   "outputs": [
    {
     "name": "stdout",
     "output_type": "stream",
     "text": [
      "[4858.18549357 1056.33377514  221.30580474]\n"
     ]
    }
   ],
   "source": [
    "print(svd.singular_values_)"
   ]
  },
  {
   "cell_type": "code",
   "execution_count": 239,
   "metadata": {},
   "outputs": [
    {
     "name": "stdout",
     "output_type": "stream",
     "text": [
      "0.984783343257063\n"
     ]
    }
   ],
   "source": [
    "print(svd.explained_variance_ratio_.sum())"
   ]
  },
  {
   "cell_type": "code",
   "execution_count": 244,
   "metadata": {},
   "outputs": [
    {
     "data": {
      "text/html": [
       "<div>\n",
       "<style scoped>\n",
       "    .dataframe tbody tr th:only-of-type {\n",
       "        vertical-align: middle;\n",
       "    }\n",
       "\n",
       "    .dataframe tbody tr th {\n",
       "        vertical-align: top;\n",
       "    }\n",
       "\n",
       "    .dataframe thead th {\n",
       "        text-align: right;\n",
       "    }\n",
       "</style>\n",
       "<table border=\"1\" class=\"dataframe\">\n",
       "  <thead>\n",
       "    <tr style=\"text-align: right;\">\n",
       "      <th></th>\n",
       "      <th>1st_dim</th>\n",
       "      <th>2nd_dim</th>\n",
       "      <th>3rd_dim</th>\n",
       "    </tr>\n",
       "  </thead>\n",
       "  <tbody>\n",
       "    <tr>\n",
       "      <th>0</th>\n",
       "      <td>225.549573</td>\n",
       "      <td>107.340951</td>\n",
       "      <td>-16.662163</td>\n",
       "    </tr>\n",
       "    <tr>\n",
       "      <th>1</th>\n",
       "      <td>239.040666</td>\n",
       "      <td>113.172579</td>\n",
       "      <td>-10.113999</td>\n",
       "    </tr>\n",
       "    <tr>\n",
       "      <th>2</th>\n",
       "      <td>229.636867</td>\n",
       "      <td>107.004507</td>\n",
       "      <td>-14.934545</td>\n",
       "    </tr>\n",
       "    <tr>\n",
       "      <th>3</th>\n",
       "      <td>251.922199</td>\n",
       "      <td>117.284103</td>\n",
       "      <td>-4.765582</td>\n",
       "    </tr>\n",
       "    <tr>\n",
       "      <th>4</th>\n",
       "      <td>256.551083</td>\n",
       "      <td>118.278852</td>\n",
       "      <td>-0.505533</td>\n",
       "    </tr>\n",
       "    <tr>\n",
       "      <th>5</th>\n",
       "      <td>277.183197</td>\n",
       "      <td>127.684891</td>\n",
       "      <td>7.135132</td>\n",
       "    </tr>\n",
       "    <tr>\n",
       "      <th>6</th>\n",
       "      <td>252.617484</td>\n",
       "      <td>114.099609</td>\n",
       "      <td>-3.922336</td>\n",
       "    </tr>\n",
       "    <tr>\n",
       "      <th>7</th>\n",
       "      <td>247.288143</td>\n",
       "      <td>110.370582</td>\n",
       "      <td>-8.449204</td>\n",
       "    </tr>\n",
       "    <tr>\n",
       "      <th>8</th>\n",
       "      <td>257.232154</td>\n",
       "      <td>114.518443</td>\n",
       "      <td>-3.520025</td>\n",
       "    </tr>\n",
       "    <tr>\n",
       "      <th>9</th>\n",
       "      <td>266.110313</td>\n",
       "      <td>117.766832</td>\n",
       "      <td>0.721991</td>\n",
       "    </tr>\n",
       "  </tbody>\n",
       "</table>\n",
       "</div>"
      ],
      "text/plain": [
       "      1st_dim     2nd_dim    3rd_dim\n",
       "0  225.549573  107.340951 -16.662163\n",
       "1  239.040666  113.172579 -10.113999\n",
       "2  229.636867  107.004507 -14.934545\n",
       "3  251.922199  117.284103  -4.765582\n",
       "4  256.551083  118.278852  -0.505533\n",
       "5  277.183197  127.684891   7.135132\n",
       "6  252.617484  114.099609  -3.922336\n",
       "7  247.288143  110.370582  -8.449204\n",
       "8  257.232154  114.518443  -3.520025\n",
       "9  266.110313  117.766832   0.721991"
      ]
     },
     "execution_count": 244,
     "metadata": {},
     "output_type": "execute_result"
    }
   ],
   "source": [
    "svd_dataframe = pd.DataFrame(data=svd_reduced_features,columns=['1st_dim','2nd_dim','3rd_dim'])\n",
    "svd_data_array = np.vstack((svd_dataframe.T, label)).T\n",
    "\n",
    "# New Feature Matrix\n",
    "svd_dataframe.head(10)"
   ]
  },
  {
   "cell_type": "markdown",
   "metadata": {},
   "source": [
    "# Scatter Plot in 2 Dim\n"
   ]
  },
  {
   "cell_type": "code",
   "execution_count": 247,
   "metadata": {},
   "outputs": [
    {
     "data": {
      "image/png": "[encoded data removed]",
      "text/plain": [
       "<Figure size 490.25x432 with 1 Axes>"
      ]
     },
     "metadata": {
      "needs_background": "light"
     },
     "output_type": "display_data"
    }
   ],
   "source": [
    "svd = TruncatedSVD(n_components = 2)\n",
    "svd_reduced_features = svd.fit_transform(feature_matrix)\n",
    "\n",
    "svd_dataframe = pd.DataFrame(data=svd_reduced_features,columns=['1st_dim','2nd_dim'])\n",
    "svd_data_array = np.vstack((svd_dataframe.T, label)).T\n",
    "\n",
    "svd_df = pd.DataFrame(data = svd_data_array, columns=(\"1st_principal\", \"2nd_principal\", \"label\"))\n",
    "sn.FacetGrid(pca_df, hue=\"label\", height=6).map(plt.scatter, '1st_principal', '2nd_principal').add_legend()\n",
    "plt.show()"
   ]
  },
  {
   "cell_type": "markdown",
   "metadata": {},
   "source": [
    "# Scatter Plot in 3 Dim"
   ]
  },
  {
   "cell_type": "code",
   "execution_count": 257,
   "metadata": {},
   "outputs": [
    {
     "data": {
      "text/plain": [
       "<mpl_toolkits.mplot3d.art3d.Path3DCollection at 0x7f697e5a2b90>"
      ]
     },
     "execution_count": 257,
     "metadata": {},
     "output_type": "execute_result"
    },
    {
     "data": {
      "image/png": "[encoded data removed]",
      "text/plain": [
       "<Figure size 432x288 with 1 Axes>"
      ]
     },
     "metadata": {
      "needs_background": "light"
     },
     "output_type": "display_data"
    }
   ],
   "source": [
    "from mpl_toolkits.mplot3d import Axes3D\n",
    "svd = TruncatedSVD(n_components = 3)\n",
    "svd_reduced_features = svd.fit_transform(feature_matrix)\n",
    "\n",
    "svd_dataframe = pd.DataFrame(data=svd_reduced_features,columns=['1st_dim','2nd_dim','3rd_dim'])\n",
    "svd_data_array = np.vstack((svd_dataframe.T, label)).T\n",
    "\n",
    "\n",
    "fig = plt.figure()\n",
    "ax = fig.add_subplot(projection='3d')\n",
    "ax.scatter(svd_dataframe['1st_dim'],svd_dataframe['2nd_dim'],svd_dataframe['3rd_dim'])"
   ]
  },
  {
   "cell_type": "code",
   "execution_count": null,
   "metadata": {},
   "outputs": [],
   "source": []
  }
 ],
 "metadata": {
  "kernelspec": {
   "display_name": "Python 3",
   "language": "python",
   "name": "python3"
  },
  "language_info": {
   "codemirror_mode": {
    "name": "ipython",
    "version": 3
   },
   "file_extension": ".py",
   "mimetype": "text/x-python",
   "name": "python",
   "nbconvert_exporter": "python",
   "pygments_lexer": "ipython3",
   "version": "3.7.6"
  }
 },
 "nbformat": 4,
 "nbformat_minor": 4
}
